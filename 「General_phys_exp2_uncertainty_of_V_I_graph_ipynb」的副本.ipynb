{
  "nbformat": 4,
  "nbformat_minor": 0,
  "metadata": {
    "colab": {
      "provenance": [],
      "include_colab_link": true
    },
    "kernelspec": {
      "name": "python3",
      "display_name": "Python 3"
    },
    "language_info": {
      "name": "python"
    }
  },
  "cells": [
    {
      "cell_type": "markdown",
      "metadata": {
        "id": "view-in-github",
        "colab_type": "text"
      },
      "source": [
        "<a href=\"https://colab.research.google.com/github/suzan101159/learningg/blob/main/%E3%80%8CGeneral_phys_exp2_uncertainty_of_V_I_graph_ipynb%E3%80%8D%E7%9A%84%E5%89%AF%E6%9C%AC.ipynb\" target=\"_parent\"><img src=\"https://colab.research.google.com/assets/colab-badge.svg\" alt=\"Open In Colab\"/></a>"
      ]
    },
    {
      "cell_type": "code",
      "source": [
        "import numpy as np"
      ],
      "metadata": {
        "id": "mLgw4utx7jy2"
      },
      "execution_count": 79,
      "outputs": []
    },
    {
      "cell_type": "code",
      "execution_count": 80,
      "metadata": {
        "id": "MclUnq2C7S58"
      },
      "outputs": [],
      "source": [
        "# 實驗數據輸入\n",
        "V = np.array([1.4555, 1.4360, 1.4465, 1.2700, 1.2145, 1.1060, 0.9550, 0.7900, 0.6920, 0.5505, 0.3380])\n",
        "R = np.array([800, 500, 300, 100, 75, 50, 30, 20, 15, 10, 5])\n",
        "N = 11\n",
        "min_scale = 0.001"
      ]
    },
    {
      "cell_type": "code",
      "source": [
        "# 一些其他為了方便用的numpy array們\n",
        "I = V / R\n",
        "I2 = I * I\n",
        "IV = I * V\n",
        "overV = 1 / V\n",
        "overV2 = 1 / ( V ** 2 )\n",
        "overR = 1 / R\n",
        "overR2 = 1 / ( R ** 2 )\n",
        "overRV = overR * overV\n",
        "u_AB = min_scale / ( 2 * np.sqrt(3))\n",
        "u_Voverd = u_AB / 1.5\n",
        "u_V = V * np.sqrt( ( u_Voverd ** 2) + ( u_AB / V ) ** 2 )\n",
        "u_overV = u_V / ( V ** 2 )\n",
        "u_I = I * u_V / V\n",
        "print(u_V)\n",
        "print(u_I)"
      ],
      "metadata": {
        "id": "lClGkpDt7qKi",
        "colab": {
          "base_uri": "https://localhost:8080/"
        },
        "outputId": "4e2f9b3c-ca3a-44bc-e425-72ac04a94f98"
      },
      "execution_count": 81,
      "outputs": [
        {
          "output_type": "stream",
          "name": "stdout",
          "text": [
            "[0.00040224 0.00039963 0.00040103 0.00037825 0.00037143 0.00035866\n",
            " 0.00034222 0.00032626 0.00031791 0.0003075  0.00029591]\n",
            "[5.02797743e-07 7.99267813e-07 1.33677984e-06 3.78246441e-06\n",
            " 4.95245560e-06 7.17323833e-06 1.14072120e-05 1.63131962e-05\n",
            " 2.11942379e-05 3.07501897e-05 5.91826301e-05]\n"
          ]
        }
      ]
    },
    {
      "cell_type": "code",
      "source": [
        "# 計算斜率(內電阻)\n",
        "m = (N * np.sum(IV) - np.sum(I) * np.sum(V)) / (N * np.sum(I2) - np.sum(I) ** 2)\n",
        "print('m_1 = %10f Ω' % m)\n",
        "\n",
        "# 計算斜率不確定度\n",
        "dmdV = ((2 * N * I - np.sum(V) / R - np.sum(I)) * (N * np.sum(I2) - np.sum(I) ** 2) -\n",
        "        (N * np.sum(IV) - np.sum(I) * np.sum(V)) * (2 * N * V / R / R - 2 / R * np.sum(I))) / (N * np.sum(I2) - np.sum(I) ** 2) ** 2\n",
        "dmdV2_times_u_V2 = dmdV ** 2 * u_V ** 2\n",
        "u_m = np.sqrt(np.sum(dmdV2_times_u_V2))\n",
        "print('u_m = %f Ω' % u_m)\n",
        "\n",
        "# 計算斜率不確定度百分比\n",
        "percentage_m = -1 * u_m / m * 100\n",
        "print('u_m / m = %f' % percentage_m, ' %')"
      ],
      "metadata": {
        "colab": {
          "base_uri": "https://localhost:8080/"
        },
        "id": "fSBm7aZF73Qj",
        "outputId": "c97faf98-f659-4919-b848-1f0a1416cc07"
      },
      "execution_count": 82,
      "outputs": [
        {
          "output_type": "stream",
          "name": "stdout",
          "text": [
            "m_1 = -17.265368 Ω\n",
            "u_m = 0.012604 Ω\n",
            "u_m / m = 0.073000  %\n"
          ]
        }
      ]
    },
    {
      "cell_type": "code",
      "source": [
        "# 計算y軸截距(電動勢)\n",
        "\n",
        "triangle = (N * np.sum(I2) - np.sum(I) ** 2)\n",
        "b = (np.sum(I2) * np.sum(V) - np.sum(I) * np.sum(IV)) / (N * np.sum(I2) - np.sum(I) ** 2)\n",
        "print('triangle = %.6f' % triangle)\n",
        "print('b = %.6f V' % b)\n",
        "epsilon_1 = b\n",
        "\n",
        "# 計算y軸截距不確定度\n",
        "dbdV = ((2 * I / R * np.sum(V) + np.sum(I2) - overR * np.sum(IV) -\n",
        "         2 * I * np.sum(I)) * (N * np.sum(I2) - np.sum(I) ** 2)\n",
        "         -((np.sum(I2) * np.sum(V) - (np.sum(I) * np.sum(IV))) * (2 * N * I / R - 2 / R * np.sum(I)))) / (N * np.sum(I2) - np.sum(I) ** 2) ** 2\n",
        "dbdV2_times_u_V2 = dbdV ** 2 * u_V ** 2\n",
        "u_b = np.sqrt(np.sum(dbdV2_times_u_V2))\n",
        "print('u_b = %.7f V' % u_b)\n",
        "\n",
        "# 計算y軸不確定度百分比\n",
        "percentage_b = u_b / b * 100\n",
        "print('u_b / b = %.4f' % percentage_b, ' %')"
      ],
      "metadata": {
        "colab": {
          "base_uri": "https://localhost:8080/"
        },
        "id": "TtywyieU8FkY",
        "outputId": "d4eb7ce0-f346-40fe-f50e-56fcd7c3f852"
      },
      "execution_count": 83,
      "outputs": [
        {
          "output_type": "stream",
          "name": "stdout",
          "text": [
            "triangle = 0.055361\n",
            "b = 1.494974 V\n",
            "u_b = 0.0002703 V\n",
            "u_b / b = 0.0181  %\n"
          ]
        }
      ]
    },
    {
      "cell_type": "code",
      "source": [
        "# 計算斜率(r/電動勢)\n",
        "m = (N * np.sum(overRV) - np.sum(overR) * np.sum(overV)) / (N * np.sum(overR2) - np.sum(overR) ** 2)\n",
        "print('m_1 = %10f Ω' % m)\n",
        "\n",
        "# 計算斜率不確定度\n",
        "dmdV = ((-N * overR * overV2 + overV2 * np.sum(overR)) * (N * np.sum(overR2) - np.sum(overR) ** 2)) / (N * np.sum(overR2) - np.sum(overR) ** 2) ** 2\n",
        "dmdV2_times_u_V2 = dmdV ** 2 * u_V ** 2\n",
        "u_m = np.sqrt(np.sum(dmdV2_times_u_V2))\n",
        "print('u_m = %f Ω' % u_m)\n",
        "\n",
        "# 計算斜率不確定度百分比\n",
        "percentage_m = -1 * u_m / m * 100\n",
        "print('u_m / m = %.4f' % percentage_m, ' %')"
      ],
      "metadata": {
        "colab": {
          "base_uri": "https://localhost:8080/"
        },
        "id": "Cn9ta47pgoCS",
        "outputId": "4c169a6f-a569-4817-ee3b-668f27ff6a70"
      },
      "execution_count": 68,
      "outputs": [
        {
          "output_type": "stream",
          "name": "stdout",
          "text": [
            "m_1 =  11.462620 Ω\n",
            "u_m = 0.011238 Ω\n",
            "u_m / m = -0.0980  %\n"
          ]
        }
      ]
    },
    {
      "cell_type": "code",
      "source": [
        "# 計算y軸截距(1/電動勢)\n",
        "\n",
        "triangle = (N * np.sum(overR2) - np.sum(overR) ** 2)\n",
        "b = (np.sum(overR2) * np.sum(overV) - np.sum(overR) * np.sum(overRV)) / (N * np.sum(overR2) - np.sum(overR) ** 2)\n",
        "print('triangle = %f' % triangle)\n",
        "print('b = %.9f V' % b)\n",
        "\n",
        "# 計算y軸截距不確定度\n",
        "dbdV = (( - overV2 * np.sum(overR2) - overR * overV2 * np.sum(overR)) * (N * np.sum(overR2) - np.sum(overR) ** 2)) / ((N * np.sum(overR2) - np.sum(overR) ** 2) ** 2)\n",
        "dbdV2_times_u_V2 = dbdV ** 2 * u_V ** 2\n",
        "u_b = np.sqrt(np.sum(dbdV2_times_u_V2))\n",
        "print('u_b = %.6f V' % u_b)\n",
        "\n",
        "# 計算y軸不確定度百分比\n",
        "percentage_b = u_b / b * 100\n",
        "print('u_b / b = %.4f' % percentage_b, ' %')"
      ],
      "metadata": {
        "colab": {
          "base_uri": "https://localhost:8080/"
        },
        "id": "VSl1Y9ewgr3_",
        "outputId": "2a5016ae-fdde-4c58-a7b3-d190c29878e6"
      },
      "execution_count": 59,
      "outputs": [
        {
          "output_type": "stream",
          "name": "stdout",
          "text": [
            "triangle = 0.396333\n",
            "b = 0.672043818 V\n",
            "u_b = 0.001097 V\n",
            "u_b / b = 0.1632  %\n"
          ]
        }
      ]
    },
    {
      "cell_type": "code",
      "source": [
        "# 計算epsilon_2\n",
        "epsilon_2 = 1 / b\n",
        "print('epsilon_2 = %f Volt' % epsilon_2)\n",
        "\n",
        "# 計算epsilon_2不確定度\n",
        "u_epsilon_2 = u_b / b ** 2\n",
        "print('u_epsilon_2 = %f Volt' % u_epsilon_2)\n",
        "\n",
        "# 計算epsilon_2不確定度百分比\n",
        "percentage_epsilon_2 = u_epsilon_2 / epsilon_2 * 100\n",
        "print('u_epsilon_2 / epsilon_2 = %.8f' % percentage_epsilon_2, ' %')"
      ],
      "metadata": {
        "colab": {
          "base_uri": "https://localhost:8080/"
        },
        "id": "RkUGYh-9UUy5",
        "outputId": "fc7278a8-0160-4ff6-deaa-ecbac48cdea0"
      },
      "execution_count": 64,
      "outputs": [
        {
          "output_type": "stream",
          "name": "stdout",
          "text": [
            "epsilon_2 = 1.487998 Volt\n",
            "u_epsilon_2 = 0.002429 Volt\n",
            "u_epsilon_2 / epsilon_2 = 0.16320623  %\n"
          ]
        }
      ]
    },
    {
      "cell_type": "code",
      "source": [
        "# 計算r\n",
        "r = m / b\n",
        "print('r = %f Ω' % r)\n",
        "\n",
        "# 計算r不確定度\n",
        "drdV = ((-N * overR * overV2 + overV2 * np.sum(overR)) * (np.sum(overR2) * np.sum(overV) - np.sum(overR) * np.sum(overRV))\n",
        "    - (N * np.sum(overRV) - np.sum(overR) * np.sum(overV)) * ( np.sum(overR2) * -np.sum(overV) - np.sum(overR) * np.sum(overRV) ) ) / (np.sum(overR2) * np.sum(overV) - np.sum(overR) * np.sum(overRV)) ** 2\n",
        "drdV_times_u_V2 = drdV ** 2 * u_V ** 2\n",
        "u_r = np.sqrt(np.sum(drdV2_times_u_V2))\n",
        "print('u_r = %f Ω' % u_r)\n",
        "\n",
        "# 計算r不確定度百分比\n",
        "percentage_r = u_r / r * 100\n",
        "print('u_r / r = %.8f' % percentage_r, ' %')"
      ],
      "metadata": {
        "colab": {
          "base_uri": "https://localhost:8080/"
        },
        "id": "ligUhT_WRqv6",
        "outputId": "20c25aa8-c640-494e-ce31-1ee434b6e0c6"
      },
      "execution_count": 66,
      "outputs": [
        {
          "output_type": "stream",
          "name": "stdout",
          "text": [
            "r = 17.056358 Ω\n",
            "u_r = 0.011238 Ω\n",
            "u_r / r = 0.06588574  %\n"
          ]
        }
      ]
    },
    {
      "cell_type": "code",
      "source": [
        "# 計算誤差百分比\n",
        "epsilon_x = 1.4885\n",
        "epsilon_1_percent = (epsilon_1 - epsilon_x) / epsilon_x * 100\n",
        "epsilon_2_percent = (epsilon_2 - epsilon_x) / epsilon_x * 100\n",
        "print('epsilon_1_percent = %.4f' % epsilon_1_percent, ' %')\n",
        "print('epsilon_2_persent = %.4f' % epsilon_2_percent, ' %')"
      ],
      "metadata": {
        "colab": {
          "base_uri": "https://localhost:8080/"
        },
        "id": "XeMGI0COykOg",
        "outputId": "0156484c-60c5-410d-9d38-27bbefb9c61d"
      },
      "execution_count": 78,
      "outputs": [
        {
          "output_type": "stream",
          "name": "stdout",
          "text": [
            "epsilon_1_percent = 0.4349  %\n",
            "epsilon_2_persent = -0.0337  %\n"
          ]
        }
      ]
    }
  ]
}